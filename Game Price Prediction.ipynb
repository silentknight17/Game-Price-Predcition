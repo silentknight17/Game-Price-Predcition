{
 "cells": [
  {
   "cell_type": "code",
   "execution_count": 12,
   "metadata": {},
   "outputs": [],
   "source": [
    "import numpy as np\n",
    "import pandas as pd\n",
    "from sklearn import preprocessing\n"
   ]
  },
  {
   "cell_type": "code",
   "execution_count": 13,
   "metadata": {},
   "outputs": [],
   "source": [
    "data_train=pd.read_csv(\"steam_train.csv\")"
   ]
  },
  {
   "cell_type": "code",
   "execution_count": 14,
   "metadata": {},
   "outputs": [],
   "source": [
    "data_test=pd.read_csv(\"steam_test.csv\")"
   ]
  },
  {
   "cell_type": "code",
   "execution_count": 15,
   "metadata": {},
   "outputs": [
    {
     "data": {
      "text/html": [
       "<div>\n",
       "<style scoped>\n",
       "    .dataframe tbody tr th:only-of-type {\n",
       "        vertical-align: middle;\n",
       "    }\n",
       "\n",
       "    .dataframe tbody tr th {\n",
       "        vertical-align: top;\n",
       "    }\n",
       "\n",
       "    .dataframe thead th {\n",
       "        text-align: right;\n",
       "    }\n",
       "</style>\n",
       "<table border=\"1\" class=\"dataframe\">\n",
       "  <thead>\n",
       "    <tr style=\"text-align: right;\">\n",
       "      <th></th>\n",
       "      <th>appid</th>\n",
       "      <th>name</th>\n",
       "      <th>release_date</th>\n",
       "      <th>english</th>\n",
       "      <th>developer</th>\n",
       "      <th>publisher</th>\n",
       "      <th>platforms</th>\n",
       "      <th>required_age</th>\n",
       "      <th>categories</th>\n",
       "      <th>genres</th>\n",
       "      <th>steamspy_tags</th>\n",
       "      <th>achievements</th>\n",
       "      <th>positive_ratings</th>\n",
       "      <th>negative_ratings</th>\n",
       "      <th>average_playtime</th>\n",
       "      <th>median_playtime</th>\n",
       "      <th>owners</th>\n",
       "      <th>price</th>\n",
       "    </tr>\n",
       "  </thead>\n",
       "  <tbody>\n",
       "    <tr>\n",
       "      <th>0</th>\n",
       "      <td>708830</td>\n",
       "      <td>The Armament Project</td>\n",
       "      <td>2017-09-28</td>\n",
       "      <td>1</td>\n",
       "      <td>DysTop</td>\n",
       "      <td>DysTop</td>\n",
       "      <td>windows</td>\n",
       "      <td>0</td>\n",
       "      <td>Single-player;Partial Controller Support</td>\n",
       "      <td>Action;Indie</td>\n",
       "      <td>Action;Indie;Space</td>\n",
       "      <td>0</td>\n",
       "      <td>2</td>\n",
       "      <td>2</td>\n",
       "      <td>0</td>\n",
       "      <td>0</td>\n",
       "      <td>0-20000</td>\n",
       "      <td>2.89</td>\n",
       "    </tr>\n",
       "    <tr>\n",
       "      <th>1</th>\n",
       "      <td>538000</td>\n",
       "      <td>Hop Step Sing! Kisekiteki Shining! (HQ Edition)</td>\n",
       "      <td>2017-06-29</td>\n",
       "      <td>1</td>\n",
       "      <td>Kodansha;Polygon Pictures Inc.;Lantis</td>\n",
       "      <td>Degica</td>\n",
       "      <td>windows</td>\n",
       "      <td>0</td>\n",
       "      <td>Single-player;Partial Controller Support</td>\n",
       "      <td>Casual</td>\n",
       "      <td>Casual;VR;Anime</td>\n",
       "      <td>0</td>\n",
       "      <td>30</td>\n",
       "      <td>4</td>\n",
       "      <td>0</td>\n",
       "      <td>0</td>\n",
       "      <td>0-20000</td>\n",
       "      <td>3.99</td>\n",
       "    </tr>\n",
       "    <tr>\n",
       "      <th>2</th>\n",
       "      <td>603530</td>\n",
       "      <td>A Robot Named Fight!</td>\n",
       "      <td>2017-09-07</td>\n",
       "      <td>1</td>\n",
       "      <td>Matt Bitner Games</td>\n",
       "      <td>Matt Bitner Games</td>\n",
       "      <td>windows;mac;linux</td>\n",
       "      <td>0</td>\n",
       "      <td>Single-player;Local Co-op;Shared/Split Screen;...</td>\n",
       "      <td>Violent;Gore;Action;Indie</td>\n",
       "      <td>Action;Metroidvania;Indie</td>\n",
       "      <td>60</td>\n",
       "      <td>271</td>\n",
       "      <td>30</td>\n",
       "      <td>279</td>\n",
       "      <td>279</td>\n",
       "      <td>20000-50000</td>\n",
       "      <td>10.29</td>\n",
       "    </tr>\n",
       "    <tr>\n",
       "      <th>3</th>\n",
       "      <td>564040</td>\n",
       "      <td>ZANGEKI WARP</td>\n",
       "      <td>2017-02-15</td>\n",
       "      <td>1</td>\n",
       "      <td>ASTRO PORT</td>\n",
       "      <td>Nyu Media</td>\n",
       "      <td>windows;linux</td>\n",
       "      <td>0</td>\n",
       "      <td>Single-player;Steam Achievements;Steam Trading...</td>\n",
       "      <td>Action;Indie</td>\n",
       "      <td>Action;Indie;Shoot 'Em Up</td>\n",
       "      <td>53</td>\n",
       "      <td>16</td>\n",
       "      <td>0</td>\n",
       "      <td>0</td>\n",
       "      <td>0</td>\n",
       "      <td>0-20000</td>\n",
       "      <td>4.79</td>\n",
       "    </tr>\n",
       "    <tr>\n",
       "      <th>4</th>\n",
       "      <td>951940</td>\n",
       "      <td>Almost There: The Platformer</td>\n",
       "      <td>2019-02-19</td>\n",
       "      <td>1</td>\n",
       "      <td>Bony Yousuf</td>\n",
       "      <td>The Quantum Astrophysicists Guild</td>\n",
       "      <td>windows;mac;linux</td>\n",
       "      <td>0</td>\n",
       "      <td>Single-player;Steam Achievements;Full controll...</td>\n",
       "      <td>Action;Casual;Indie;Strategy</td>\n",
       "      <td>Indie;Action;Casual</td>\n",
       "      <td>24</td>\n",
       "      <td>29</td>\n",
       "      <td>1</td>\n",
       "      <td>0</td>\n",
       "      <td>0</td>\n",
       "      <td>0-20000</td>\n",
       "      <td>7.19</td>\n",
       "    </tr>\n",
       "  </tbody>\n",
       "</table>\n",
       "</div>"
      ],
      "text/plain": [
       "    appid                                             name release_date  \\\n",
       "0  708830                             The Armament Project   2017-09-28   \n",
       "1  538000  Hop Step Sing! Kisekiteki Shining! (HQ Edition)   2017-06-29   \n",
       "2  603530                             A Robot Named Fight!   2017-09-07   \n",
       "3  564040                                     ZANGEKI WARP   2017-02-15   \n",
       "4  951940                     Almost There: The Platformer   2019-02-19   \n",
       "\n",
       "   english                              developer  \\\n",
       "0        1                                 DysTop   \n",
       "1        1  Kodansha;Polygon Pictures Inc.;Lantis   \n",
       "2        1                      Matt Bitner Games   \n",
       "3        1                             ASTRO PORT   \n",
       "4        1                            Bony Yousuf   \n",
       "\n",
       "                           publisher          platforms  required_age  \\\n",
       "0                             DysTop            windows             0   \n",
       "1                             Degica            windows             0   \n",
       "2                  Matt Bitner Games  windows;mac;linux             0   \n",
       "3                          Nyu Media      windows;linux             0   \n",
       "4  The Quantum Astrophysicists Guild  windows;mac;linux             0   \n",
       "\n",
       "                                          categories  \\\n",
       "0           Single-player;Partial Controller Support   \n",
       "1           Single-player;Partial Controller Support   \n",
       "2  Single-player;Local Co-op;Shared/Split Screen;...   \n",
       "3  Single-player;Steam Achievements;Steam Trading...   \n",
       "4  Single-player;Steam Achievements;Full controll...   \n",
       "\n",
       "                         genres              steamspy_tags  achievements  \\\n",
       "0                  Action;Indie         Action;Indie;Space             0   \n",
       "1                        Casual            Casual;VR;Anime             0   \n",
       "2     Violent;Gore;Action;Indie  Action;Metroidvania;Indie            60   \n",
       "3                  Action;Indie  Action;Indie;Shoot 'Em Up            53   \n",
       "4  Action;Casual;Indie;Strategy        Indie;Action;Casual            24   \n",
       "\n",
       "   positive_ratings  negative_ratings  average_playtime  median_playtime  \\\n",
       "0                 2                 2                 0                0   \n",
       "1                30                 4                 0                0   \n",
       "2               271                30               279              279   \n",
       "3                16                 0                 0                0   \n",
       "4                29                 1                 0                0   \n",
       "\n",
       "        owners  price  \n",
       "0      0-20000   2.89  \n",
       "1      0-20000   3.99  \n",
       "2  20000-50000  10.29  \n",
       "3      0-20000   4.79  \n",
       "4      0-20000   7.19  "
      ]
     },
     "execution_count": 15,
     "metadata": {},
     "output_type": "execute_result"
    }
   ],
   "source": [
    "data_train.head()"
   ]
  },
  {
   "cell_type": "code",
   "execution_count": 16,
   "metadata": {},
   "outputs": [],
   "source": [
    "X=data_train[['appid','english','achievements','positive_ratings','negative_ratings','average_playtime','median_playtime']].values\n",
    "Y=data_train['price'].values\n",
    "X1=data_test[['appid','english','achievements','positive_ratings','negative_ratings','average_playtime','median_playtime']].values"
   ]
  },
  {
   "cell_type": "markdown",
   "metadata": {},
   "source": [
    "Multiple Linear Regression"
   ]
  },
  {
   "cell_type": "code",
   "execution_count": 17,
   "metadata": {},
   "outputs": [
    {
     "name": "stdout",
     "output_type": "stream",
     "text": [
      "Coefficients:  [-4.69902736e-06 -4.05160532e-01 -6.88794912e-05 -8.60777798e-06\n",
      "  9.49243866e-05  1.36697869e-04  2.11437207e-05]\n",
      "Intercept:  9.221453109743013\n"
     ]
    }
   ],
   "source": [
    "from sklearn import linear_model\n",
    "regr = linear_model.LinearRegression()\n",
    "#x = np.asanyarray(train[['ENGINESIZE','CYLINDERS','FUELCONSUMPTION_COMB']])\n",
    "#y = np.asanyarray(train[['CO2EMISSIONS']])\n",
    "regr.fit (X, Y)\n",
    "# The coefficients\n",
    "print ('Coefficients: ', regr.coef_)\n",
    "print(\"Intercept: \",regr.intercept_)"
   ]
  },
  {
   "cell_type": "code",
   "execution_count": 18,
   "metadata": {},
   "outputs": [],
   "source": [
    "yhat=regr.predict(X1)"
   ]
  },
  {
   "cell_type": "code",
   "execution_count": 27,
   "metadata": {},
   "outputs": [
    {
     "data": {
      "text/plain": [
       "array([6.39781784, 4.07152557, 7.5621242 , 7.83489813, 5.11036339])"
      ]
     },
     "execution_count": 27,
     "metadata": {},
     "output_type": "execute_result"
    }
   ],
   "source": [
    "yhat[0:5]"
   ]
  },
  {
   "cell_type": "code",
   "execution_count": 29,
   "metadata": {},
   "outputs": [
    {
     "data": {
      "text/plain": [
       "array([[1.0000e+00, 7.0883e+05, 1.0000e+00, ..., 0.0000e+00, 0.0000e+00,\n",
       "        0.0000e+00],\n",
       "       [1.0000e+00, 5.3800e+05, 1.0000e+00, ..., 0.0000e+00, 0.0000e+00,\n",
       "        0.0000e+00],\n",
       "       [1.0000e+00, 6.0353e+05, 1.0000e+00, ..., 7.7841e+04, 7.7841e+04,\n",
       "        7.7841e+04],\n",
       "       ...,\n",
       "       [1.0000e+00, 4.6540e+04, 1.0000e+00, ..., 2.0164e+04, 2.2294e+04,\n",
       "        2.4649e+04],\n",
       "       [1.0000e+00, 6.7165e+05, 1.0000e+00, ..., 0.0000e+00, 0.0000e+00,\n",
       "        0.0000e+00],\n",
       "       [1.0000e+00, 9.0027e+05, 1.0000e+00, ..., 0.0000e+00, 0.0000e+00,\n",
       "        0.0000e+00]])"
      ]
     },
     "execution_count": 29,
     "metadata": {},
     "output_type": "execute_result"
    }
   ],
   "source": [
    "from sklearn.preprocessing import PolynomialFeatures\n",
    "from sklearn import linear_model\n",
    "\n",
    "poly = PolynomialFeatures(degree=2)\n",
    "train_x_poly = poly.fit_transform(X)\n",
    "train_x_poly"
   ]
  },
  {
   "cell_type": "code",
   "execution_count": 40,
   "metadata": {},
   "outputs": [
    {
     "data": {
      "text/plain": [
       "array([6.26390619, 4.01129479, 7.40534346, ..., 5.48292481, 6.7386407 ,\n",
       "       4.26686213])"
      ]
     },
     "execution_count": 40,
     "metadata": {},
     "output_type": "execute_result"
    }
   ],
   "source": [
    "clf = linear_model.LinearRegression()\n",
    "train_y = clf.fit(train_x_poly, Y)\n",
    "\n",
    "test_x_poly = poly.fit_transform(X1)\n",
    "yhat = clf.predict(test_x_poly)\n",
    "yhat"
   ]
  },
  {
   "cell_type": "code",
   "execution_count": 42,
   "metadata": {},
   "outputs": [],
   "source": [
    "#Non Linear Regression Analysis"
   ]
  },
  {
   "cell_type": "code",
   "execution_count": null,
   "metadata": {},
   "outputs": [],
   "source": []
  },
  {
   "cell_type": "code",
   "execution_count": null,
   "metadata": {},
   "outputs": [],
   "source": []
  },
  {
   "cell_type": "code",
   "execution_count": null,
   "metadata": {},
   "outputs": [],
   "source": []
  },
  {
   "cell_type": "code",
   "execution_count": 41,
   "metadata": {},
   "outputs": [],
   "source": [
    "#Modelling\n",
    "\n",
    "x_id=data_test[\"appid\"].values\n",
    "df=pd.DataFrame({'appid':x_id,'price':yhat})\n",
    "df['price']=df['price'].astype(float)\n",
    "df['appid']=df['appid'].astype(int)\n",
    "df.to_csv('Sub5.csv',index=False)"
   ]
  },
  {
   "cell_type": "code",
   "execution_count": null,
   "metadata": {},
   "outputs": [],
   "source": []
  },
  {
   "cell_type": "code",
   "execution_count": null,
   "metadata": {},
   "outputs": [],
   "source": []
  }
 ],
 "metadata": {
  "kernelspec": {
   "display_name": "Python 3",
   "language": "python",
   "name": "python3"
  },
  "language_info": {
   "codemirror_mode": {
    "name": "ipython",
    "version": 3
   },
   "file_extension": ".py",
   "mimetype": "text/x-python",
   "name": "python",
   "nbconvert_exporter": "python",
   "pygments_lexer": "ipython3",
   "version": "3.7.6"
  }
 },
 "nbformat": 4,
 "nbformat_minor": 4
}
